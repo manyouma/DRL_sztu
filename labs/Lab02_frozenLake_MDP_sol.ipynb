{
 "cells": [
  {
   "cell_type": "markdown",
   "id": "839c9bab",
   "metadata": {},
   "source": [
    "# 🧊 Lab 2 — Stochastic FrozenLake & Transition Probabilities\n",
    "\n",
    "In this lab, we will:\n",
    "1. **Visualize the slippery surface** to build intuition about stochastic transitions.\n",
    "2. **Model FrozenLake as an MDP**, explicitly defining $P(s' \\mid s,a)$.\n",
    "3. **Implement and verify** our own transition probability table and compare it to Gym's."
   ]
  },
  {
   "cell_type": "markdown",
   "id": "f4a04647",
   "metadata": {},
   "source": [
    "### 🧊 Demonstration: Slippery vs. Deterministic FrozenLake\n",
    "\n",
    "Let's compare **deterministic** (`is_slippery=False`) and **stochastic** (`is_slippery=True`) FrozenLake.\n",
    "\n",
    "1. First, create the environment with `is_slippery=False` and run a trajectory.\n",
    "2. Then recreate the environment with `is_slippery=True` and run the **same function** again.\n",
    "3. Notice how the agent may slip into unintended directions when the surface is slippery."
   ]
  },
  {
   "cell_type": "code",
   "execution_count": 1,
   "id": "97ea60ee",
   "metadata": {},
   "outputs": [],
   "source": [
    "import gymnasium as gym\n",
    "import numpy as np\n",
    "import random\n",
    "from gymnasium.envs.toy_text.frozen_lake import generate_random_map"
   ]
  },
  {
   "cell_type": "code",
   "execution_count": 2,
   "id": "ec8d2bbd",
   "metadata": {},
   "outputs": [
    {
     "name": "stdout",
     "output_type": "stream",
     "text": [
      "=== Deterministic FrozenLake ===\n",
      "\n",
      "\u001b[41mS\u001b[0mFFF\n",
      "FHFH\n",
      "FFFH\n",
      "HFFG\n",
      "\n",
      "Action: 1, State: 4, Reward: 0.0\n",
      "  (Down)\n",
      "SFFF\n",
      "\u001b[41mF\u001b[0mHFH\n",
      "FFFH\n",
      "HFFG\n",
      "\n",
      "Action: 1, State: 8, Reward: 0.0\n",
      "  (Down)\n",
      "SFFF\n",
      "FHFH\n",
      "\u001b[41mF\u001b[0mFFH\n",
      "HFFG\n",
      "\n",
      "Action: 2, State: 9, Reward: 0.0\n",
      "  (Right)\n",
      "SFFF\n",
      "FHFH\n",
      "F\u001b[41mF\u001b[0mFH\n",
      "HFFG\n",
      "\n",
      "Action: 2, State: 10, Reward: 0.0\n",
      "  (Right)\n",
      "SFFF\n",
      "FHFH\n",
      "FF\u001b[41mF\u001b[0mH\n",
      "HFFG\n",
      "\n"
     ]
    }
   ],
   "source": [
    "# Deterministic environment (no slipping)\n",
    "env = gym.make(\"FrozenLake-v1\", map_name=\"4x4\", is_slippery=False, render_mode=\"ansi\")\n",
    "print(\"=== Deterministic FrozenLake ===\")\n",
    "obs, info = env.reset(seed=42)\n",
    "print(env.render())\n",
    "# Take 4 fixed actions: DOWN, DOWN, RIGHT, RIGHT (1, 1, 2, 2)\n",
    "for action in [1, 1, 2, 2]:\n",
    "    obs, reward, terminated, truncated, info = env.step(action)\n",
    "    print(f\"Action: {action}, State: {obs}, Reward: {reward}\")\n",
    "    print(env.render())\n",
    "    if terminated:\n",
    "        break"
   ]
  },
  {
   "cell_type": "code",
   "execution_count": 3,
   "id": "b99115d8",
   "metadata": {},
   "outputs": [
    {
     "name": "stdout",
     "output_type": "stream",
     "text": [
      "\n",
      "=== Slippery FrozenLake ===\n",
      "\n",
      "\u001b[41mS\u001b[0mFFF\n",
      "FHFH\n",
      "FFFH\n",
      "HFFG\n",
      "\n",
      "Action: 1, State: 4, Reward: 0.0\n",
      "  (Down)\n",
      "SFFF\n",
      "\u001b[41mF\u001b[0mHFH\n",
      "FFFH\n",
      "HFFG\n",
      "\n",
      "Action: 1, State: 5, Reward: 0.0\n",
      "  (Down)\n",
      "SFFF\n",
      "F\u001b[41mH\u001b[0mFH\n",
      "FFFH\n",
      "HFFG\n",
      "\n"
     ]
    }
   ],
   "source": [
    "# Now recreate environment with slippery dynamics\n",
    "env = gym.make(\"FrozenLake-v1\", map_name=\"4x4\", is_slippery=True, render_mode=\"ansi\")\n",
    "print(\"\\n=== Slippery FrozenLake ===\")\n",
    "obs, info = env.reset(seed=42)\n",
    "print(env.render())\n",
    "\n",
    "# Take the same fixed action sequence again\n",
    "for action in [1, 1, 2, 2]:\n",
    "    obs, reward, terminated, truncated, info = env.step(action)\n",
    "    print(f\"Action: {action}, State: {obs}, Reward: {reward}\")\n",
    "    print(env.render())\n",
    "    if terminated:\n",
    "        break"
   ]
  },
  {
   "cell_type": "markdown",
   "id": "346b5a78",
   "metadata": {},
   "source": [
    "### 📊 How Slippery Works in FrozenLake\n",
    "\n",
    "When `is_slippery=True`, the environment introduces **stochastic transitions**:\n",
    "\n",
    "- Each time you choose an action, the environment samples from:\n",
    "  - **Left turn**: with probability **1/3**\n",
    "  - **Forward (intended direction)**: with probability **1/3**\n",
    "  - **Right turn**: with probability **1/3**\n",
    "\n",
    "This means your chosen direction only succeeds about **33% of the time**.  \n",
    "If a slip would move you outside the grid, the agent simply stays in place."
   ]
  },
  {
   "cell_type": "markdown",
   "id": "8451f617",
   "metadata": {},
   "source": [
    "## 🧮Group Exercise: Modeling FrozenLake as Four Transition Matrices\n",
    "\n",
    "In slippery mode, **each action has its own transition probability matrix**:\n",
    "\n",
    "- **`P_LEFT`** — probabilities for taking action **LEFT**\n",
    "- **`P_DOWN`** — probabilities for taking action **DOWN**\n",
    "- **`P_RIGHT`** — probabilities for taking action **RIGHT**\n",
    "- **`P_UP`** — probabilities for taking action **UP**\n",
    "\n",
    "Each matrix is **9×9** (one row per current state, one column per next state)  \n",
    "and satisfies the property that **each row sums to 1** (or 0 if the state is terminal)."
   ]
  },
  {
   "cell_type": "code",
   "execution_count": 4,
   "id": "40519cfc",
   "metadata": {},
   "outputs": [
    {
     "name": "stdout",
     "output_type": "stream",
     "text": [
      "\n",
      "\u001b[41mS\u001b[0mFF\n",
      "FHF\n",
      "FFG\n",
      "\n"
     ]
    }
   ],
   "source": [
    "# Define a smaller 3x3 map\n",
    "DESC_3x3 = [\n",
    "    \"SFF\",\n",
    "    \"FHF\",\n",
    "    \"FFG\",\n",
    "]\n",
    "env = gym.make(\"FrozenLake-v1\",desc=DESC_3x3,is_slippery=True, render_mode=\"ansi\")\n",
    "obs, info = env.reset(seed=42)\n",
    "print(env.render())"
   ]
  },
  {
   "cell_type": "code",
   "execution_count": 5,
   "id": "d8de090b",
   "metadata": {},
   "outputs": [],
   "source": [
    "# 9x9 placeholder matrices for students to fill manually\n",
    "\n",
    "P_LEFT = [\n",
    "    [2, 1, 0, 1, 0, 0, 0, 0, 0],\n",
    "    [0, 1, 1, 0, 0, 0, 0, 0, 0],\n",
    "    [0, 0, 1, 0, 0, 1, 0, 0, 0],\n",
    "    [1, 0, 0, 1, 0, 0, 1, 0, 0],\n",
    "    [0, 1, 0, 0, 3, 1, 0, 1, 0],\n",
    "    [0, 0, 1, 0, 0, 0, 0, 0, 1],\n",
    "    [0, 0, 0, 1, 0, 0, 2, 1, 0],\n",
    "    [0, 0, 0, 0, 0, 0, 0, 1, 1],\n",
    "    [0, 0, 0, 0, 0, 1, 0, 0, 1],\n",
    "]\n",
    "\n",
    "P_DOWN = [\n",
    "    [1, 1, 0, 0, 0, 0, 0, 0, 0],\n",
    "    [1, 0, 1, 0, 0, 0, 0, 0, 0],\n",
    "    [0, 1, 1, 0, 0, 0, 0, 0, 0],\n",
    "    [1, 0, 0, 1, 0, 0, 0, 0, 0],\n",
    "    [0, 1, 0, 1, 3, 1, 0, 0, 0],\n",
    "    [0, 0, 1, 0, 0, 1, 0, 0, 0],\n",
    "    [0, 0, 0, 1, 0, 0, 2, 1, 0],\n",
    "    [0, 0, 0, 0, 0, 0, 1, 1, 1],\n",
    "    [0, 0, 0, 0, 0, 1, 0, 1, 2],\n",
    "]\n",
    "\n",
    "P_RIGHT = [\n",
    "    [1, 0, 0, 1, 0, 0, 0, 0, 0],\n",
    "    [1, 1, 0, 0, 0, 0, 0, 0, 0],\n",
    "    [0, 1, 2, 0, 0, 1, 0, 0, 0],\n",
    "    [1, 0, 0, 0, 0, 0, 1, 0, 0],\n",
    "    [0, 1, 0, 1, 3, 0, 0, 1, 0],\n",
    "    [0, 0, 1, 0, 0, 1, 0, 0, 1],\n",
    "    [0, 0, 0, 1, 0, 0, 1, 0, 0],\n",
    "    [0, 0, 0, 0, 0, 0, 1, 1, 0],\n",
    "    [0, 0, 0, 0, 0, 1, 0, 1, 2],\n",
    "]\n",
    "\n",
    "P_UP = [\n",
    "    [2, 1, 0, 1, 0, 0, 0, 0, 0],\n",
    "    [0, 1, 0, 0, 0, 1, 0, 0, 0],\n",
    "    [0, 0, 0, 0, 0, 0, 0, 0, 0],\n",
    "    [1, 0, 0, 1, 0, 0, 1, 0, 0],\n",
    "    [0, 1, 0, 0, 3, 1, 0, 1, 0],\n",
    "    [0, 0, 0, 0, 0, 0, 0, 0, 0],\n",
    "    [0, 0, 0, 1, 0, 0, 2, 1, 0],\n",
    "    [0, 0, 0, 0, 0, 0, 0, 1, 0],\n",
    "    [0, 0, 0, 0, 0, 1, 0, 0, 3],\n",
    "]\n"
   ]
  },
  {
   "cell_type": "code",
   "execution_count": 11,
   "id": "f771997d",
   "metadata": {},
   "outputs": [
    {
     "name": "stdout",
     "output_type": "stream",
     "text": [
      "Shape of combined matrix: (4, 9, 9)\n"
     ]
    }
   ],
   "source": [
    "P_all = np.array([P_LEFT, P_DOWN, P_RIGHT, P_UP]).transpose(0, 2, 1)/3\n",
    "print(\"Shape of combined matrix:\", P_all.shape)  # (4, 9, 9)"
   ]
  },
  {
   "cell_type": "markdown",
   "id": "928cdb6a",
   "metadata": {},
   "source": [
    "### 🎯 Overview: Sampling a Trajectory from `P_all`\n",
    "\n",
    "We now have `P_all`, a combined transition model with shape `(4, n_states, n_states)`.  \n",
    "This means we know the probability of reaching every possible next state `s'`  \n",
    "from any current state `s` for each action `a`.\n",
    "\n",
    "In this step, we will **simulate a trajectory** given:\n",
    "- A starting state (e.g., the state of `S`).\n",
    "- A fixed sequence of actions (e.g. `[0, 1, 3, 2]`).\n",
    "\n",
    "Instead of calling `env.step()`, we will:\n",
    "- Use `P_all[a, s, :]` to get the probability distribution of next states.\n",
    "- Sample the next state according to these probabilities.\n",
    "- Repeat until all actions are taken, building a list of visited states.\n",
    "\n",
    "This shows that once we have the full transition model,  \n",
    "we can generate experience **entirely from our MDP representation** —  \n",
    "an essential idea behind **model-based reinforcement learning**.\n"
   ]
  },
  {
   "cell_type": "code",
   "execution_count": 12,
   "id": "18f08d87",
   "metadata": {},
   "outputs": [],
   "source": [
    "def sample_trajectory(P_all, start_state, actions):\n",
    "    s = start_state\n",
    "    trajectory = [s]\n",
    "    for a in actions:\n",
    "        probs = P_all[a, :, s]  # row of probabilities for next states\n",
    "        s_next = random.choices(range(len(probs)), weights=probs, k=1)[0]\n",
    "        trajectory.append(s_next)\n",
    "        s = s_next\n",
    "    return trajectory"
   ]
  },
  {
   "cell_type": "code",
   "execution_count": 13,
   "id": "decc8af6",
   "metadata": {},
   "outputs": [
    {
     "name": "stdout",
     "output_type": "stream",
     "text": [
      "Sampled trajectory of states: [0, 0, 1, 1, 1]\n"
     ]
    }
   ],
   "source": [
    "# Example usage:\n",
    "obs = 0  # assume starting from state 0 (top-left S)\n",
    "actions = [0, 1, 3, 2]  # LEFT, DOWN, UP, RIGHT\n",
    "trajectory = sample_trajectory(P_all, obs, actions)\n",
    "print(\"Sampled trajectory of states:\", trajectory)"
   ]
  },
  {
   "cell_type": "markdown",
   "id": "c7706640",
   "metadata": {},
   "source": [
    "### 🧭 From Policy to State Transition Matrix\n",
    "\n",
    "Once we have defined a **policy** — a list of actions, one for each state —\n",
    "\n",
    "```python\n",
    "# Example: choose an action for each of the 9 states\n",
    "POLICY = [1, 1, 2, 0, 0, 2, 1, 1, 0]  # 0=LEFT, 1=DOWN, 2=RIGHT, 3=UP\n",
    "```\n",
    "\n",
    "we can use it to create a **policy-specific transition matrix** `P_pi`.\n",
    "\n",
    "---\n",
    "\n",
    "### 📝 What We Are Doing\n",
    "\n",
    "- Start with `P_all`, which contains probabilities for **all actions**:\n",
    "  - Shape: `(4, 9, 9)` → 4 actions × 9 states × 9 next states.\n",
    "- For each state `s`:\n",
    "  - Look up the action chosen by the policy: `a = POLICY[s]`.\n",
    "  - Copy the probability row `P_all[a, s, :]` into the corresponding row of `P_pi`."
   ]
  },
  {
   "cell_type": "code",
   "execution_count": 14,
   "id": "e62bce69",
   "metadata": {},
   "outputs": [],
   "source": [
    "POLICY = [\n",
    "    1,  # state 0 (top-left)\n",
    "    2,  # state 1\n",
    "    1,  # state 2\n",
    "    1,  # state 3\n",
    "    1,  # state 4 (center, possibly hole)\n",
    "    1,  # state 5\n",
    "    2,  # state 6\n",
    "    2,  # state 7\n",
    "    2,  # state 8 (goal state)\n",
    "]"
   ]
  },
  {
   "cell_type": "code",
   "execution_count": 15,
   "id": "ac1a8817",
   "metadata": {},
   "outputs": [
    {
     "name": "stdout",
     "output_type": "stream",
     "text": [
      "Policy-specific transition matrix (P_pi):\n",
      "[[0.33 0.33 0.   0.33 0.   0.   0.   0.   0.  ]\n",
      " [0.   0.33 0.33 0.   0.33 0.   0.   0.   0.  ]\n",
      " [0.   0.33 0.33 0.   0.   0.33 0.   0.   0.  ]\n",
      " [0.   0.   0.   0.33 0.33 0.   0.33 0.   0.  ]\n",
      " [0.   0.   0.   0.   1.   0.   0.   0.   0.  ]\n",
      " [0.   0.   0.   0.   0.33 0.33 0.   0.   0.33]\n",
      " [0.   0.   0.   0.33 0.   0.   0.33 0.33 0.  ]\n",
      " [0.   0.   0.   0.   0.33 0.   0.   0.33 0.33]\n",
      " [0.   0.   0.   0.   0.   0.33 0.   0.   0.67]]\n"
     ]
    }
   ],
   "source": [
    "n_states = len(POLICY)\n",
    "P_pi = np.zeros((n_states, n_states))\n",
    "\n",
    "for s in range(n_states):\n",
    "    a = POLICY[s]             # action chosen at state s\n",
    "    P_pi[s, :] = P_all[a, s]  # copy the probabilities for that action\n",
    "\n",
    "# Print the resulting matrix\n",
    "import numpy as np\n",
    "np.set_printoptions(precision=2, suppress=True)\n",
    "print(\"Policy-specific transition matrix (P_pi):\")\n",
    "print(P_pi)"
   ]
  },
  {
   "cell_type": "markdown",
   "id": "36d7449b",
   "metadata": {},
   "source": [
    "### 📈 Policy Evaluation: Solving for State Values\n",
    "\n",
    "Now that we have:\n",
    "\n",
    "- **`P_pi`** → the policy-specific state transition matrix (9×9)\n",
    "- **`R`** → the reward vector for each state (or reward per state-action-next_state)\n",
    "\n",
    "we can compute the **value of each state under this policy**."
   ]
  },
  {
   "cell_type": "markdown",
   "id": "e1745616",
   "metadata": {},
   "source": [
    "### 📝 What We Are Doing\n",
    "\n",
    "The state value function under a fixed policy satisfies:\n",
    "\n",
    "$$\n",
    "V = R + \\gamma P_\\pi V\n",
    "$$\n",
    "\n",
    "where:\n",
    "\n",
    "- **`V`** is a column vector of state values.\n",
    "- **`R`** is a column vector of expected immediate rewards per state.\n",
    "- **`γ`** is the discount factor (e.g. 0.9).\n",
    "- **`P_pi`** is the transition matrix under the policy.\n",
    "\n",
    "We can rearrange this to solve for `V` directly:\n",
    "\n",
    "$$\n",
    "(I - \\gamma P_\\pi) V = R\n",
    "\\quad\\Rightarrow\\quad\n",
    "V = (I - \\gamma P_\\pi)^{-1} R\n",
    "$$\n",
    "\n",
    "---\n",
    "\n",
    "### 🎯 Your Task\n",
    "\n",
    "1. Build a reward vector `R` of length 9 (1 for goal states, 0 otherwise).\n",
    "2. Choose a discount factor `gamma` (e.g. 0.9).\n",
    "3. Solve for `V` using NumPy:"
   ]
  },
  {
   "cell_type": "code",
   "execution_count": null,
   "id": "ae52c88a",
   "metadata": {},
   "outputs": [],
   "source": [
    "# Your time to work on it"
   ]
  },
  {
   "cell_type": "code",
   "execution_count": 23,
   "id": "ed850207",
   "metadata": {},
   "outputs": [],
   "source": [
    "Reward = [\n",
    "    0,  # state 0 (top-left)\n",
    "    0,  # state 1\n",
    "    0,  # state 2\n",
    "    0,  # state 3\n",
    "    0,  # state 4 (center, possibly hole)\n",
    "    0,  # state 5\n",
    "    0,  # state 6\n",
    "    0,  # state 7\n",
    "    1,  # state 8 (goal state)\n",
    "]\n",
    "Reward = np.array(Reward)\n",
    "gamma = 0.9"
   ]
  },
  {
   "cell_type": "code",
   "execution_count": 25,
   "id": "5d2a40a3",
   "metadata": {},
   "outputs": [],
   "source": [
    "# Solve for the value of the policy I designed \n",
    "I = np.eye(9)\n",
    "A = I - gamma * P_pi\n",
    "V = np.linalg.solve(A, Reward)"
   ]
  },
  {
   "cell_type": "code",
   "execution_count": 28,
   "id": "64775371",
   "metadata": {},
   "outputs": [
    {
     "name": "stdout",
     "output_type": "stream",
     "text": [
      "State values V: [0.3  0.36 0.83 0.36 0.   1.58 0.83 1.58 3.68]\n"
     ]
    }
   ],
   "source": [
    "print(\"State values V:\", V)"
   ]
  }
 ],
 "metadata": {
  "kernelspec": {
   "display_name": "Python 3 (ipykernel)",
   "language": "python",
   "name": "python3"
  },
  "language_info": {
   "codemirror_mode": {
    "name": "ipython",
    "version": 3
   },
   "file_extension": ".py",
   "mimetype": "text/x-python",
   "name": "python",
   "nbconvert_exporter": "python",
   "pygments_lexer": "ipython3",
   "version": "3.11.5"
  }
 },
 "nbformat": 4,
 "nbformat_minor": 5
}
